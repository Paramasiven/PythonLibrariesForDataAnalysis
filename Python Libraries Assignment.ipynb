{
 "cells": [
  {
   "cell_type": "markdown",
   "id": "b29c0371-b32a-41d9-9470-d0eda1b19fa1",
   "metadata": {},
   "source": [
    "# Task 1\n",
    "> 1. Describe what is Anaconda and Miniconda are used for and what is the \n",
    "> difference between them. \n",
    "\n",
    " > Anaconda and Miniconda are widely used package managers for scientific computing,\n",
    " data science, machine learning and other related fields. Anaconda comes with a large sized\n",
    " number of pre-installed packages(about 1500) which is ideal for beginners because it contains\n",
    " all the main packages you will require for doing projects in the above mentioned fields. Miniconda\n",
    " is similar to Anaconda as a package manager but only comes with 2 packages Python and Conda. It is \n",
    " left to the user to install only the packages that they need. This is ideal for a more experienced \n",
    " user who does not want to install unnecessary packages and wants to save disk space.\n",
    "\n",
    "> 2. Explain how to manage Anaconda environments \n",
    "\n",
    " > An anaconda environment is an isolated space from other virtual environments dedicated to a single \n",
    " project you might want to work on. You can install only the packages that you will need for your project.\n",
    " It is composed of a Python Interpreter, Python packages and a utility script. Anaconda comes with a user \n",
    " interface called Anaconda Navigator where there are options for creating, cloning, making backups, making\n",
    " imports and removing environments. It is also possible to manage environments via the command line through Conda. \n",
    "\n",
    "> 3. Explain how to enter and deactivate an environment in Anaconda \n",
    "\n",
    " > Conda has commands such as \n",
    "\n",
    " > conda create -n NameOfEnvironment PythonVersion ListOfPackagesWanted.\n",
    "\n",
    " > Once created you can enter the environment by activating it as follows\n",
    "\n",
    " > conda activate NameOfEnvironment which will give us a command prompt starting with (NameOfEnvironment)¬$\n",
    "\n",
    " > Once in the environment you can install packages with \n",
    "\n",
    " > conda install ListOfPackages\n",
    "\n",
    " > To deactivate the environment you can use\n",
    "\n",
    " > conda deactivate\n",
    "\n",
    " > To remove an environment you can use\n",
    "\n",
    " >conda env remove -n NameOfEnvironment\n",
    "\n",
    "$\n",
    "> 4. Describe how to install, remove and update packages in Anaconda \n",
    "\n",
    "\n",
    " > Conda installs packages together with their required dependencies as follows\n",
    "\n",
    " > conda install Package1, Package2, Package3, etc\n",
    " \n",
    " > Dependencies are automatically installed with the packages.\n",
    "\n",
    " > Conda removes packages\n",
    " \n",
    " > conda remove Package1\n",
    "\n",
    " > Conda updates packages\n",
    "\n",
    " > conda update Package1\n",
    "\n",
    " > You can update all packages at once\n",
    "\n",
    " > conda update --all\n",
    "\n"
   ]
  },
  {
   "cell_type": "markdown",
   "id": "146d23cb-0ea9-4967-84a1-bfc216f2f6f5",
   "metadata": {},
   "source": [
    "# Task 2\n",
    "\n",
    "> 1. Outline what Jupyter notebooks are used for\n",
    "\n",
    "> Jupter Notebook is a web application that combines several features that are indispensable when\n",
    " working in a data centric field such as data science, scientific computing and machine learning.\n",
    " The notebook consists of explanatory text, math equations, code and visualisation diagrams. They\n",
    " all form part of the same document.You can also download data from other places and run the code \n",
    " in Jupyter Notebook and repeat the analysis if needed.\n",
    "\n",
    "> 2. Describe code cells and markdown cells in Jupyter notebooks.\n",
    "\n",
    "> Jupyter Notebook is structured as cells. A cell can either be a markdown cell or a code cell.\n",
    "  The markdown cell can contain text-like content such as headings, font style, listings while\n",
    "  a code cell will contain Python code with its Jupyter-specific highlighting.\n",
    "\n",
    "> 3. Outline the purpose of magic keywords in Jupyter notebook.\n",
    "\n",
    "> Jupyter Notebook has additional commands apart from Python which gives further functionality\n",
    "  to notebooks for running and analysing data as well as non-programmatic tasks. Magic commands\n",
    "  can be line commands which start with a % symbol and cell commands which start with %% symbol.\n",
    "  Some common commands are %run for running a file, %lsmagic for listing all magic commands,\n",
    "  %%time for the execution time of some code, %who for listing all variables in the notebook,\n",
    "  %env gives a listing of environment variables in the notebook, %matplotlib allows matplotlib\n",
    "  graphs to be rendered in the notebook.\n",
    "\n",
    "> 4. Give examples of formats to which Jupyter notebooks can be converted.\n",
    "\n",
    "> Asciidoc, HTML, LaTeX, Markdown, PDF, Qtpdf, Qtpng, ReStructuredText, Executable Script,\n",
    "  Reveal.js Slides, Webpdf\n",
    "\n",
    "\n",
    "\n",
    "\n",
    " \n",
    " \n"
   ]
  },
  {
   "cell_type": "markdown",
   "id": "aaebfd74",
   "metadata": {},
   "source": [
    "#Task 3\n",
    "> 1. Outline the use of NumPy\n",
    "  To use Numpy, we have to install it and then import the library  "
   ]
  },
  {
   "cell_type": "code",
   "execution_count": 4,
   "id": "f6f949cf",
   "metadata": {},
   "outputs": [],
   "source": [
    "import numpy as np"
   ]
  },
  {
   "cell_type": "markdown",
   "id": "3c5a346c",
   "metadata": {},
   "source": [
    "> In Numpy, arrays are widely used to model a large variety of systems and are known as ndarrays or n-dimensonal arrays"
   ]
  },
  {
   "cell_type": "code",
   "execution_count": 8,
   "id": "7e68d16c",
   "metadata": {},
   "outputs": [
    {
     "name": "stdout",
     "output_type": "stream",
     "text": [
      "[1 2 3 4 5]\n",
      "[[1 2 3]\n",
      " [4 5 6]]\n",
      "[[[1 2 3]\n",
      "  [4 5 6]]\n",
      "\n",
      " [[1 2 3]\n",
      "  [7 8 9]]]\n",
      "1\n",
      "2\n",
      "3\n"
     ]
    }
   ],
   "source": [
    "arr1 = np.array([1,2,3,4,5]) # 1-D Array\n",
    "arr2 = np.array([[1,2,3],[4,5,6]]) # 2-D Array\n",
    "arr3 = np.array([[[1,2,3],[4,5,6]],[[1,2,3],[7,8,9]]]) # 3-D Array\n",
    "print(arr1)\n",
    "print(arr2)\n",
    "print(arr3)\n",
    "print(arr1.ndim)\n",
    "print(arr2.ndim)\n",
    "print(arr3.ndim)"
   ]
  },
  {
   "cell_type": "markdown",
   "id": "d41bf3c7",
   "metadata": {},
   "source": [
    "> You can use indexing to find elements in arrays"
   ]
  },
  {
   "cell_type": "code",
   "execution_count": 10,
   "id": "3b49cd38",
   "metadata": {},
   "outputs": [
    {
     "name": "stdout",
     "output_type": "stream",
     "text": [
      "1\n",
      "2\n"
     ]
    }
   ],
   "source": [
    "print(arr1[0]) # finding the first element of the array\n",
    "print(arr1[1]) # finding the second element of the array"
   ]
  },
  {
   "cell_type": "markdown",
   "id": "e90e042d",
   "metadata": {},
   "source": [
    "> You can find out the data type of data structure or variable"
   ]
  },
  {
   "cell_type": "code",
   "execution_count": 13,
   "id": "7e6d4980",
   "metadata": {},
   "outputs": [
    {
     "name": "stdout",
     "output_type": "stream",
     "text": [
      "int32\n",
      "int32\n"
     ]
    }
   ],
   "source": [
    "print(arr1[0].dtype)\n",
    "print(arr2.dtype)"
   ]
  },
  {
   "cell_type": "markdown",
   "id": "6b3277ba",
   "metadata": {},
   "source": [
    "> You can find out the shape of an array ie the number of elements in each dimension"
   ]
  },
  {
   "cell_type": "code",
   "execution_count": 14,
   "id": "a5cad7c6",
   "metadata": {},
   "outputs": [
    {
     "name": "stdout",
     "output_type": "stream",
     "text": [
      "(2, 2, 3)\n"
     ]
    }
   ],
   "source": [
    "print(arr3.shape)"
   ]
  },
  {
   "cell_type": "markdown",
   "id": "74b85f6c",
   "metadata": {},
   "source": [
    "> You can find the total number of elements in an array with size"
   ]
  },
  {
   "cell_type": "code",
   "execution_count": 15,
   "id": "35d5bb49",
   "metadata": {},
   "outputs": [
    {
     "name": "stdout",
     "output_type": "stream",
     "text": [
      "12\n"
     ]
    }
   ],
   "source": [
    "print(arr3.size)"
   ]
  },
  {
   "cell_type": "markdown",
   "id": "493b7ed0",
   "metadata": {},
   "source": [
    "> 2. Explain how to create and save NumPy ndarrays. "
   ]
  },
  {
   "cell_type": "code",
   "execution_count": 16,
   "id": "695a5787",
   "metadata": {},
   "outputs": [
    {
     "name": "stdout",
     "output_type": "stream",
     "text": [
      "[1 2 3 4 5]\n"
     ]
    }
   ],
   "source": [
    "x = np.array([1, 2, 3, 4, 5])\n",
    "\n",
    "np.save('my_array' , x)\n",
    "\n",
    "y = np.load('my_array.npy')\n",
    "\n",
    "print(y)"
   ]
  },
  {
   "cell_type": "markdown",
   "id": "323a8b43",
   "metadata": {},
   "source": [
    "> 3. Describe ways to manipulate ndarrays. "
   ]
  },
  {
   "cell_type": "markdown",
   "id": "223e3131",
   "metadata": {},
   "source": [
    "> We can reshape an array by changing the number of elements in each dimension"
   ]
  },
  {
   "cell_type": "code",
   "execution_count": 19,
   "id": "f92fc8e7",
   "metadata": {},
   "outputs": [
    {
     "name": "stdout",
     "output_type": "stream",
     "text": [
      "[ 1  2  3  4  5  6  7  8  9 10 11 12]\n",
      "[[[ 1  2]\n",
      "  [ 3  4]\n",
      "  [ 5  6]]\n",
      "\n",
      " [[ 7  8]\n",
      "  [ 9 10]\n",
      "  [11 12]]]\n"
     ]
    }
   ],
   "source": [
    "z = np.arange(1, 13, 1)\n",
    "print(z)\n",
    "z = z.reshape(2,3,2)\n",
    "print(z)"
   ]
  },
  {
   "cell_type": "markdown",
   "id": "cb233126",
   "metadata": {},
   "source": [
    "> We can join together 2 arrays as follows"
   ]
  },
  {
   "cell_type": "code",
   "execution_count": 20,
   "id": "f44d8470",
   "metadata": {},
   "outputs": [
    {
     "name": "stdout",
     "output_type": "stream",
     "text": [
      "[[1 2]\n",
      " [3 4]\n",
      " [5 6]\n",
      " [7 8]]\n"
     ]
    }
   ],
   "source": [
    "arr1 = np.array([[1, 2], [3, 4]])\n",
    "\n",
    "arr2 = np.array([[5, 6], [7, 8]])\n",
    "\n",
    "arr = np.concatenate((arr1, arr2), axis=0)\n",
    "\n",
    "print(arr)"
   ]
  },
  {
   "cell_type": "markdown",
   "id": "182ad951",
   "metadata": {},
   "source": [
    "> We can also split an array into multiple arrays"
   ]
  },
  {
   "cell_type": "code",
   "execution_count": 22,
   "id": "3e62bff5",
   "metadata": {},
   "outputs": [
    {
     "name": "stdout",
     "output_type": "stream",
     "text": [
      "[array([1, 2]), array([3, 4]), array([5, 6])]\n",
      "[1 2]\n",
      "[3 4]\n",
      "[5 6]\n"
     ]
    }
   ],
   "source": [
    "arr = np.array([1, 2, 3, 4, 5, 6])\n",
    "\n",
    "newarr = np.array_split(arr, 3)\n",
    "\n",
    "print(newarr)\n",
    "print(newarr[0])\n",
    "print(newarr[1])\n",
    "print(newarr[2])"
   ]
  },
  {
   "cell_type": "markdown",
   "id": "9c8db1cc",
   "metadata": {},
   "source": [
    "> We can search an array with the keyword where, this returns the indices for the found elements"
   ]
  },
  {
   "cell_type": "code",
   "execution_count": 23,
   "id": "7419a34b",
   "metadata": {},
   "outputs": [
    {
     "name": "stdout",
     "output_type": "stream",
     "text": [
      "(array([3, 5, 6], dtype=int64),)\n"
     ]
    }
   ],
   "source": [
    "arr = np.array([1, 2, 3, 4, 5, 4, 4])\n",
    "\n",
    "x = np.where(arr == 4)\n",
    "\n",
    "print(x)"
   ]
  },
  {
   "cell_type": "markdown",
   "id": "599709b5",
   "metadata": {},
   "source": [
    "> We can also sort an array into order"
   ]
  },
  {
   "cell_type": "code",
   "execution_count": 24,
   "id": "ac066f2c",
   "metadata": {},
   "outputs": [
    {
     "name": "stdout",
     "output_type": "stream",
     "text": [
      "[0 1 2 3]\n"
     ]
    }
   ],
   "source": [
    "arr = np.array([3, 2, 0, 1])\n",
    "\n",
    "print(np.sort(arr))"
   ]
  },
  {
   "cell_type": "markdown",
   "id": "c3b3e9c4",
   "metadata": {},
   "source": [
    "> 4. Describe at least 2 benefits of using NumPy "
   ]
  },
  {
   "cell_type": "markdown",
   "id": "2f692c9b",
   "metadata": {},
   "source": [
    "> NumPy arrays are faster than ordinary lists in Python.\n",
    "  \n",
    ">  Numpy is more memory-efficient in storing data.\n",
    "  \n",
    "> NumPy can handle large datasets."
   ]
  },
  {
   "cell_type": "markdown",
   "id": "75bc3600",
   "metadata": {},
   "source": [
    "#Task4\n",
    "> 1. Describe what “Pandas” is used for. \n"
   ]
  },
  {
   "cell_type": "markdown",
   "id": "5a4cf2e8",
   "metadata": {},
   "source": [
    "> Pandas is a powerful tool for data analysis and manipulation. It is built on top of Numpy\n",
    "  It uses series and dataframes to manipulate data."
   ]
  },
  {
   "cell_type": "markdown",
   "id": "92b9f646",
   "metadata": {},
   "source": [
    "> 2. Outline how to create, access, and delete elements in Pandas series and Pandas \n",
    "data frames. "
   ]
  },
  {
   "cell_type": "code",
   "execution_count": 2,
   "id": "4855a27b",
   "metadata": {},
   "outputs": [
    {
     "data": {
      "text/plain": [
       "strawberries      5\n",
       "bananas           3\n",
       "cereals         Yes\n",
       "milk             No\n",
       "dtype: object"
      ]
     },
     "execution_count": 2,
     "metadata": {},
     "output_type": "execute_result"
    }
   ],
   "source": [
    "import pandas as pd\n",
    "breakfast = pd.Series(data = [5, 3, 'Yes', 'No'], index = ['strawberries', 'bananas', 'cereals', 'milk'])\n",
    "breakfast"
   ]
  },
  {
   "cell_type": "markdown",
   "id": "d7ef23a9",
   "metadata": {},
   "source": [
    "> We can access the indexes and data as follows"
   ]
  },
  {
   "cell_type": "code",
   "execution_count": 3,
   "id": "7868aed4",
   "metadata": {},
   "outputs": [
    {
     "data": {
      "text/plain": [
       "Index(['strawberries', 'bananas', 'cereals', 'milk'], dtype='object')"
      ]
     },
     "execution_count": 3,
     "metadata": {},
     "output_type": "execute_result"
    }
   ],
   "source": [
    "breakfast.index"
   ]
  },
  {
   "cell_type": "code",
   "execution_count": 4,
   "id": "c4e66beb",
   "metadata": {},
   "outputs": [
    {
     "data": {
      "text/plain": [
       "array([5, 3, 'Yes', 'No'], dtype=object)"
      ]
     },
     "execution_count": 4,
     "metadata": {},
     "output_type": "execute_result"
    }
   ],
   "source": [
    "breakfast.values"
   ]
  },
  {
   "cell_type": "code",
   "execution_count": 5,
   "id": "5b2eb350",
   "metadata": {},
   "outputs": [
    {
     "data": {
      "text/plain": [
       "5"
      ]
     },
     "execution_count": 5,
     "metadata": {},
     "output_type": "execute_result"
    }
   ],
   "source": [
    "breakfast['strawberries']"
   ]
  },
  {
   "cell_type": "code",
   "execution_count": 7,
   "id": "93295ff0",
   "metadata": {},
   "outputs": [
    {
     "data": {
      "text/plain": [
       "bananas      3\n",
       "cereals    Yes\n",
       "dtype: object"
      ]
     },
     "execution_count": 7,
     "metadata": {},
     "output_type": "execute_result"
    }
   ],
   "source": [
    "breakfast[['bananas', 'cereals']]"
   ]
  },
  {
   "cell_type": "code",
   "execution_count": 10,
   "id": "bf267560",
   "metadata": {},
   "outputs": [
    {
     "data": {
      "text/plain": [
       "strawberries    5\n",
       "bananas         3\n",
       "dtype: object"
      ]
     },
     "execution_count": 10,
     "metadata": {},
     "output_type": "execute_result"
    }
   ],
   "source": [
    "breakfast[0]\n",
    "breakfast[1]"
   ]
  },
  {
   "cell_type": "markdown",
   "id": "e16a78ca",
   "metadata": {},
   "source": [
    "> We can use an explicit index"
   ]
  },
  {
   "cell_type": "code",
   "execution_count": 13,
   "id": "20b92beb",
   "metadata": {},
   "outputs": [
    {
     "data": {
      "text/plain": [
       "milk    No\n",
       "dtype: object"
      ]
     },
     "execution_count": 13,
     "metadata": {},
     "output_type": "execute_result"
    }
   ],
   "source": [
    "breakfast.loc[['milk']]"
   ]
  },
  {
   "cell_type": "markdown",
   "id": "70007ada",
   "metadata": {},
   "source": [
    "> We can use an explicit numeric index"
   ]
  },
  {
   "cell_type": "code",
   "execution_count": 14,
   "id": "0b7b58d4",
   "metadata": {},
   "outputs": [
    {
     "data": {
      "text/plain": [
       "cereals    Yes\n",
       "milk        No\n",
       "dtype: object"
      ]
     },
     "execution_count": 14,
     "metadata": {},
     "output_type": "execute_result"
    }
   ],
   "source": [
    "breakfast.iloc[[2,3]]"
   ]
  },
  {
   "cell_type": "markdown",
   "id": "bea28d8b",
   "metadata": {},
   "source": [
    "> We can delete using the drop method"
   ]
  },
  {
   "cell_type": "code",
   "execution_count": 15,
   "id": "6f5318ad",
   "metadata": {},
   "outputs": [
    {
     "data": {
      "text/plain": [
       "strawberries     5\n",
       "bananas          3\n",
       "milk            No\n",
       "dtype: object"
      ]
     },
     "execution_count": 15,
     "metadata": {},
     "output_type": "execute_result"
    }
   ],
   "source": [
    "breakfast.drop('cereals')"
   ]
  },
  {
   "cell_type": "markdown",
   "id": "db86d28f",
   "metadata": {},
   "source": [
    "> Cereals has been deleted only in the above series. For permanent deletion, we use inplace"
   ]
  },
  {
   "cell_type": "code",
   "execution_count": 19,
   "id": "d5b90259",
   "metadata": {},
   "outputs": [
    {
     "data": {
      "text/plain": [
       "strawberries     5\n",
       "bananas          3\n",
       "milk            No\n",
       "dtype: object"
      ]
     },
     "execution_count": 19,
     "metadata": {},
     "output_type": "execute_result"
    }
   ],
   "source": [
    "breakfast.drop('cereals', inplace=True)\n",
    "breakfast"
   ]
  },
  {
   "cell_type": "markdown",
   "id": "cd40fca7",
   "metadata": {},
   "source": [
    "> We now present dataframes from a dictinary"
   ]
  },
  {
   "cell_type": "code",
   "execution_count": 20,
   "id": "cbbfadfb",
   "metadata": {},
   "outputs": [
    {
     "data": {
      "text/html": [
       "<div>\n",
       "<style scoped>\n",
       "    .dataframe tbody tr th:only-of-type {\n",
       "        vertical-align: middle;\n",
       "    }\n",
       "\n",
       "    .dataframe tbody tr th {\n",
       "        vertical-align: top;\n",
       "    }\n",
       "\n",
       "    .dataframe thead th {\n",
       "        text-align: right;\n",
       "    }\n",
       "</style>\n",
       "<table border=\"1\" class=\"dataframe\">\n",
       "  <thead>\n",
       "    <tr style=\"text-align: right;\">\n",
       "      <th></th>\n",
       "      <th>Student</th>\n",
       "      <th>Teacher</th>\n",
       "    </tr>\n",
       "  </thead>\n",
       "  <tbody>\n",
       "    <tr>\n",
       "      <th>book</th>\n",
       "      <td>250.0</td>\n",
       "      <td>NaN</td>\n",
       "    </tr>\n",
       "    <tr>\n",
       "      <th>chalk</th>\n",
       "      <td>NaN</td>\n",
       "      <td>20.0</td>\n",
       "    </tr>\n",
       "    <tr>\n",
       "      <th>copybook</th>\n",
       "      <td>120.0</td>\n",
       "      <td>NaN</td>\n",
       "    </tr>\n",
       "    <tr>\n",
       "      <th>glasses</th>\n",
       "      <td>NaN</td>\n",
       "      <td>200.0</td>\n",
       "    </tr>\n",
       "    <tr>\n",
       "      <th>marker</th>\n",
       "      <td>NaN</td>\n",
       "      <td>60.0</td>\n",
       "    </tr>\n",
       "    <tr>\n",
       "      <th>pen</th>\n",
       "      <td>NaN</td>\n",
       "      <td>40.0</td>\n",
       "    </tr>\n",
       "    <tr>\n",
       "      <th>pencil</th>\n",
       "      <td>50.0</td>\n",
       "      <td>NaN</td>\n",
       "    </tr>\n",
       "    <tr>\n",
       "      <th>ruler</th>\n",
       "      <td>45.0</td>\n",
       "      <td>NaN</td>\n",
       "    </tr>\n",
       "  </tbody>\n",
       "</table>\n",
       "</div>"
      ],
      "text/plain": [
       "          Student  Teacher\n",
       "book        250.0      NaN\n",
       "chalk         NaN     20.0\n",
       "copybook    120.0      NaN\n",
       "glasses       NaN    200.0\n",
       "marker        NaN     60.0\n",
       "pen           NaN     40.0\n",
       "pencil       50.0      NaN\n",
       "ruler        45.0      NaN"
      ]
     },
     "execution_count": 20,
     "metadata": {},
     "output_type": "execute_result"
    }
   ],
   "source": [
    "items = { 'Student': pd.Series([250, 120, 50, 45], index=['book', 'copybook', 'pencil', 'ruler']),\n",
    "          'Teacher': pd.Series([200, 20, 40, 60], index=['glasses', 'chalk', 'pen', 'marker'])}\n",
    "\n",
    "classroom = pd.DataFrame(items)\n",
    "classroom\n"
   ]
  },
  {
   "cell_type": "markdown",
   "id": "2ee32a7c",
   "metadata": {},
   "source": [
    "> Indexing in dataframes is similar to series"
   ]
  },
  {
   "cell_type": "code",
   "execution_count": 23,
   "id": "38bdc648",
   "metadata": {},
   "outputs": [
    {
     "data": {
      "text/plain": [
       "Index(['book', 'chalk', 'copybook', 'glasses', 'marker', 'pen', 'pencil',\n",
       "       'ruler'],\n",
       "      dtype='object')"
      ]
     },
     "execution_count": 23,
     "metadata": {},
     "output_type": "execute_result"
    }
   ],
   "source": [
    "classroom.index"
   ]
  },
  {
   "cell_type": "code",
   "execution_count": 24,
   "id": "dbcbf868",
   "metadata": {},
   "outputs": [
    {
     "data": {
      "text/plain": [
       "Index(['Student', 'Teacher'], dtype='object')"
      ]
     },
     "execution_count": 24,
     "metadata": {},
     "output_type": "execute_result"
    }
   ],
   "source": [
    "classroom.columns"
   ]
  },
  {
   "cell_type": "code",
   "execution_count": 25,
   "id": "bd0b21a2",
   "metadata": {},
   "outputs": [
    {
     "data": {
      "text/plain": [
       "array([[250.,  nan],\n",
       "       [ nan,  20.],\n",
       "       [120.,  nan],\n",
       "       [ nan, 200.],\n",
       "       [ nan,  60.],\n",
       "       [ nan,  40.],\n",
       "       [ 50.,  nan],\n",
       "       [ 45.,  nan]])"
      ]
     },
     "execution_count": 25,
     "metadata": {},
     "output_type": "execute_result"
    }
   ],
   "source": [
    "classroom.values"
   ]
  },
  {
   "cell_type": "markdown",
   "id": "155e2310",
   "metadata": {},
   "source": [
    "> We can extract columns from dataframes"
   ]
  },
  {
   "cell_type": "code",
   "execution_count": 26,
   "id": "ccab9b96",
   "metadata": {},
   "outputs": [
    {
     "data": {
      "text/html": [
       "<div>\n",
       "<style scoped>\n",
       "    .dataframe tbody tr th:only-of-type {\n",
       "        vertical-align: middle;\n",
       "    }\n",
       "\n",
       "    .dataframe tbody tr th {\n",
       "        vertical-align: top;\n",
       "    }\n",
       "\n",
       "    .dataframe thead th {\n",
       "        text-align: right;\n",
       "    }\n",
       "</style>\n",
       "<table border=\"1\" class=\"dataframe\">\n",
       "  <thead>\n",
       "    <tr style=\"text-align: right;\">\n",
       "      <th></th>\n",
       "      <th>Student</th>\n",
       "    </tr>\n",
       "  </thead>\n",
       "  <tbody>\n",
       "    <tr>\n",
       "      <th>book</th>\n",
       "      <td>250</td>\n",
       "    </tr>\n",
       "    <tr>\n",
       "      <th>copybook</th>\n",
       "      <td>120</td>\n",
       "    </tr>\n",
       "    <tr>\n",
       "      <th>pencil</th>\n",
       "      <td>50</td>\n",
       "    </tr>\n",
       "    <tr>\n",
       "      <th>ruler</th>\n",
       "      <td>45</td>\n",
       "    </tr>\n",
       "  </tbody>\n",
       "</table>\n",
       "</div>"
      ],
      "text/plain": [
       "          Student\n",
       "book          250\n",
       "copybook      120\n",
       "pencil         50\n",
       "ruler          45"
      ]
     },
     "execution_count": 26,
     "metadata": {},
     "output_type": "execute_result"
    }
   ],
   "source": [
    "student_classroom = pd.DataFrame(items, columns=['Student'])\n",
    "student_classroom"
   ]
  },
  {
   "cell_type": "markdown",
   "id": "f84febcd",
   "metadata": {},
   "source": [
    "> We can select only the items needed"
   ]
  },
  {
   "cell_type": "code",
   "execution_count": 28,
   "id": "4b51b646",
   "metadata": {},
   "outputs": [
    {
     "data": {
      "text/html": [
       "<div>\n",
       "<style scoped>\n",
       "    .dataframe tbody tr th:only-of-type {\n",
       "        vertical-align: middle;\n",
       "    }\n",
       "\n",
       "    .dataframe tbody tr th {\n",
       "        vertical-align: top;\n",
       "    }\n",
       "\n",
       "    .dataframe thead th {\n",
       "        text-align: right;\n",
       "    }\n",
       "</style>\n",
       "<table border=\"1\" class=\"dataframe\">\n",
       "  <thead>\n",
       "    <tr style=\"text-align: right;\">\n",
       "      <th></th>\n",
       "      <th>Student</th>\n",
       "      <th>Teacher</th>\n",
       "    </tr>\n",
       "  </thead>\n",
       "  <tbody>\n",
       "    <tr>\n",
       "      <th>pencil</th>\n",
       "      <td>50</td>\n",
       "      <td>NaN</td>\n",
       "    </tr>\n",
       "    <tr>\n",
       "      <th>ruler</th>\n",
       "      <td>45</td>\n",
       "      <td>NaN</td>\n",
       "    </tr>\n",
       "  </tbody>\n",
       "</table>\n",
       "</div>"
      ],
      "text/plain": [
       "        Student  Teacher\n",
       "pencil       50      NaN\n",
       "ruler        45      NaN"
      ]
     },
     "execution_count": 28,
     "metadata": {},
     "output_type": "execute_result"
    }
   ],
   "source": [
    "student_classroom = pd.DataFrame(items, index=['pencil', 'ruler'])\n",
    "student_classroom"
   ]
  },
  {
   "cell_type": "markdown",
   "id": "29f4ae72",
   "metadata": {},
   "source": [
    "> We can select only the items needed for a column"
   ]
  },
  {
   "cell_type": "code",
   "execution_count": 29,
   "id": "043ec3e3",
   "metadata": {},
   "outputs": [
    {
     "data": {
      "text/html": [
       "<div>\n",
       "<style scoped>\n",
       "    .dataframe tbody tr th:only-of-type {\n",
       "        vertical-align: middle;\n",
       "    }\n",
       "\n",
       "    .dataframe tbody tr th {\n",
       "        vertical-align: top;\n",
       "    }\n",
       "\n",
       "    .dataframe thead th {\n",
       "        text-align: right;\n",
       "    }\n",
       "</style>\n",
       "<table border=\"1\" class=\"dataframe\">\n",
       "  <thead>\n",
       "    <tr style=\"text-align: right;\">\n",
       "      <th></th>\n",
       "      <th>Student</th>\n",
       "    </tr>\n",
       "  </thead>\n",
       "  <tbody>\n",
       "    <tr>\n",
       "      <th>pencil</th>\n",
       "      <td>50</td>\n",
       "    </tr>\n",
       "    <tr>\n",
       "      <th>copybook</th>\n",
       "      <td>120</td>\n",
       "    </tr>\n",
       "  </tbody>\n",
       "</table>\n",
       "</div>"
      ],
      "text/plain": [
       "          Student\n",
       "pencil         50\n",
       "copybook      120"
      ]
     },
     "execution_count": 29,
     "metadata": {},
     "output_type": "execute_result"
    }
   ],
   "source": [
    "student_classroom = pd.DataFrame(items, index=['pencil', 'copybook'], columns=['Student'])\n",
    "student_classroom"
   ]
  },
  {
   "cell_type": "markdown",
   "id": "c0ee656f",
   "metadata": {},
   "source": [
    "> We can access individual columns as follows"
   ]
  },
  {
   "cell_type": "code",
   "execution_count": 32,
   "id": "0a10d134",
   "metadata": {},
   "outputs": [
    {
     "data": {
      "text/html": [
       "<div>\n",
       "<style scoped>\n",
       "    .dataframe tbody tr th:only-of-type {\n",
       "        vertical-align: middle;\n",
       "    }\n",
       "\n",
       "    .dataframe tbody tr th {\n",
       "        vertical-align: top;\n",
       "    }\n",
       "\n",
       "    .dataframe thead th {\n",
       "        text-align: right;\n",
       "    }\n",
       "</style>\n",
       "<table border=\"1\" class=\"dataframe\">\n",
       "  <thead>\n",
       "    <tr style=\"text-align: right;\">\n",
       "      <th></th>\n",
       "      <th>Teacher</th>\n",
       "    </tr>\n",
       "  </thead>\n",
       "  <tbody>\n",
       "    <tr>\n",
       "      <th>book</th>\n",
       "      <td>NaN</td>\n",
       "    </tr>\n",
       "    <tr>\n",
       "      <th>chalk</th>\n",
       "      <td>20.0</td>\n",
       "    </tr>\n",
       "    <tr>\n",
       "      <th>copybook</th>\n",
       "      <td>NaN</td>\n",
       "    </tr>\n",
       "    <tr>\n",
       "      <th>glasses</th>\n",
       "      <td>200.0</td>\n",
       "    </tr>\n",
       "    <tr>\n",
       "      <th>marker</th>\n",
       "      <td>60.0</td>\n",
       "    </tr>\n",
       "    <tr>\n",
       "      <th>pen</th>\n",
       "      <td>40.0</td>\n",
       "    </tr>\n",
       "    <tr>\n",
       "      <th>pencil</th>\n",
       "      <td>NaN</td>\n",
       "    </tr>\n",
       "    <tr>\n",
       "      <th>ruler</th>\n",
       "      <td>NaN</td>\n",
       "    </tr>\n",
       "  </tbody>\n",
       "</table>\n",
       "</div>"
      ],
      "text/plain": [
       "          Teacher\n",
       "book          NaN\n",
       "chalk        20.0\n",
       "copybook      NaN\n",
       "glasses     200.0\n",
       "marker       60.0\n",
       "pen          40.0\n",
       "pencil        NaN\n",
       "ruler         NaN"
      ]
     },
     "execution_count": 32,
     "metadata": {},
     "output_type": "execute_result"
    }
   ],
   "source": [
    "classroom[['Teacher']]"
   ]
  },
  {
   "cell_type": "code",
   "execution_count": 33,
   "id": "c5ff4f49",
   "metadata": {},
   "outputs": [
    {
     "data": {
      "text/html": [
       "<div>\n",
       "<style scoped>\n",
       "    .dataframe tbody tr th:only-of-type {\n",
       "        vertical-align: middle;\n",
       "    }\n",
       "\n",
       "    .dataframe tbody tr th {\n",
       "        vertical-align: top;\n",
       "    }\n",
       "\n",
       "    .dataframe thead th {\n",
       "        text-align: right;\n",
       "    }\n",
       "</style>\n",
       "<table border=\"1\" class=\"dataframe\">\n",
       "  <thead>\n",
       "    <tr style=\"text-align: right;\">\n",
       "      <th></th>\n",
       "      <th>Student</th>\n",
       "      <th>Teacher</th>\n",
       "    </tr>\n",
       "  </thead>\n",
       "  <tbody>\n",
       "    <tr>\n",
       "      <th>book</th>\n",
       "      <td>250.0</td>\n",
       "      <td>NaN</td>\n",
       "    </tr>\n",
       "    <tr>\n",
       "      <th>chalk</th>\n",
       "      <td>NaN</td>\n",
       "      <td>20.0</td>\n",
       "    </tr>\n",
       "    <tr>\n",
       "      <th>copybook</th>\n",
       "      <td>120.0</td>\n",
       "      <td>NaN</td>\n",
       "    </tr>\n",
       "    <tr>\n",
       "      <th>glasses</th>\n",
       "      <td>NaN</td>\n",
       "      <td>200.0</td>\n",
       "    </tr>\n",
       "    <tr>\n",
       "      <th>marker</th>\n",
       "      <td>NaN</td>\n",
       "      <td>60.0</td>\n",
       "    </tr>\n",
       "    <tr>\n",
       "      <th>pen</th>\n",
       "      <td>NaN</td>\n",
       "      <td>40.0</td>\n",
       "    </tr>\n",
       "    <tr>\n",
       "      <th>pencil</th>\n",
       "      <td>50.0</td>\n",
       "      <td>NaN</td>\n",
       "    </tr>\n",
       "    <tr>\n",
       "      <th>ruler</th>\n",
       "      <td>45.0</td>\n",
       "      <td>NaN</td>\n",
       "    </tr>\n",
       "  </tbody>\n",
       "</table>\n",
       "</div>"
      ],
      "text/plain": [
       "          Student  Teacher\n",
       "book        250.0      NaN\n",
       "chalk         NaN     20.0\n",
       "copybook    120.0      NaN\n",
       "glasses       NaN    200.0\n",
       "marker        NaN     60.0\n",
       "pen           NaN     40.0\n",
       "pencil       50.0      NaN\n",
       "ruler        45.0      NaN"
      ]
     },
     "execution_count": 33,
     "metadata": {},
     "output_type": "execute_result"
    }
   ],
   "source": [
    "classroom[['Student', 'Teacher']]"
   ]
  },
  {
   "cell_type": "markdown",
   "id": "13c64f57",
   "metadata": {},
   "source": [
    "> We can delete data with pop and drop methods, pop is for columns and drop is for rows"
   ]
  },
  {
   "cell_type": "code",
   "execution_count": 45,
   "id": "17d5271f",
   "metadata": {},
   "outputs": [
    {
     "data": {
      "text/html": [
       "<div>\n",
       "<style scoped>\n",
       "    .dataframe tbody tr th:only-of-type {\n",
       "        vertical-align: middle;\n",
       "    }\n",
       "\n",
       "    .dataframe tbody tr th {\n",
       "        vertical-align: top;\n",
       "    }\n",
       "\n",
       "    .dataframe thead th {\n",
       "        text-align: right;\n",
       "    }\n",
       "</style>\n",
       "<table border=\"1\" class=\"dataframe\">\n",
       "  <thead>\n",
       "    <tr style=\"text-align: right;\">\n",
       "      <th></th>\n",
       "      <th>Student</th>\n",
       "    </tr>\n",
       "  </thead>\n",
       "  <tbody>\n",
       "    <tr>\n",
       "      <th>book</th>\n",
       "      <td>250.0</td>\n",
       "    </tr>\n",
       "    <tr>\n",
       "      <th>chalk</th>\n",
       "      <td>NaN</td>\n",
       "    </tr>\n",
       "    <tr>\n",
       "      <th>copybook</th>\n",
       "      <td>120.0</td>\n",
       "    </tr>\n",
       "    <tr>\n",
       "      <th>glasses</th>\n",
       "      <td>NaN</td>\n",
       "    </tr>\n",
       "    <tr>\n",
       "      <th>marker</th>\n",
       "      <td>NaN</td>\n",
       "    </tr>\n",
       "    <tr>\n",
       "      <th>pen</th>\n",
       "      <td>NaN</td>\n",
       "    </tr>\n",
       "    <tr>\n",
       "      <th>pencil</th>\n",
       "      <td>50.0</td>\n",
       "    </tr>\n",
       "    <tr>\n",
       "      <th>ruler</th>\n",
       "      <td>45.0</td>\n",
       "    </tr>\n",
       "  </tbody>\n",
       "</table>\n",
       "</div>"
      ],
      "text/plain": [
       "          Student\n",
       "book        250.0\n",
       "chalk         NaN\n",
       "copybook    120.0\n",
       "glasses       NaN\n",
       "marker        NaN\n",
       "pen           NaN\n",
       "pencil       50.0\n",
       "ruler        45.0"
      ]
     },
     "execution_count": 45,
     "metadata": {},
     "output_type": "execute_result"
    }
   ],
   "source": [
    "classroom.pop('Teacher')\n",
    "classroom"
   ]
  },
  {
   "cell_type": "code",
   "execution_count": 47,
   "id": "76e23900",
   "metadata": {},
   "outputs": [
    {
     "data": {
      "text/html": [
       "<div>\n",
       "<style scoped>\n",
       "    .dataframe tbody tr th:only-of-type {\n",
       "        vertical-align: middle;\n",
       "    }\n",
       "\n",
       "    .dataframe tbody tr th {\n",
       "        vertical-align: top;\n",
       "    }\n",
       "\n",
       "    .dataframe thead th {\n",
       "        text-align: right;\n",
       "    }\n",
       "</style>\n",
       "<table border=\"1\" class=\"dataframe\">\n",
       "  <thead>\n",
       "    <tr style=\"text-align: right;\">\n",
       "      <th></th>\n",
       "      <th>Student</th>\n",
       "    </tr>\n",
       "  </thead>\n",
       "  <tbody>\n",
       "    <tr>\n",
       "      <th>book</th>\n",
       "      <td>250.0</td>\n",
       "    </tr>\n",
       "    <tr>\n",
       "      <th>chalk</th>\n",
       "      <td>NaN</td>\n",
       "    </tr>\n",
       "    <tr>\n",
       "      <th>copybook</th>\n",
       "      <td>120.0</td>\n",
       "    </tr>\n",
       "    <tr>\n",
       "      <th>marker</th>\n",
       "      <td>NaN</td>\n",
       "    </tr>\n",
       "    <tr>\n",
       "      <th>pen</th>\n",
       "      <td>NaN</td>\n",
       "    </tr>\n",
       "    <tr>\n",
       "      <th>pencil</th>\n",
       "      <td>50.0</td>\n",
       "    </tr>\n",
       "    <tr>\n",
       "      <th>ruler</th>\n",
       "      <td>45.0</td>\n",
       "    </tr>\n",
       "  </tbody>\n",
       "</table>\n",
       "</div>"
      ],
      "text/plain": [
       "          Student\n",
       "book        250.0\n",
       "chalk         NaN\n",
       "copybook    120.0\n",
       "marker        NaN\n",
       "pen           NaN\n",
       "pencil       50.0\n",
       "ruler        45.0"
      ]
     },
     "execution_count": 47,
     "metadata": {},
     "output_type": "execute_result"
    }
   ],
   "source": [
    "classroom.drop('glasses', inplace=True)\n",
    "classroom"
   ]
  },
  {
   "cell_type": "markdown",
   "id": "7662d61f",
   "metadata": {},
   "source": [
    "> 3. Describe the differences between NumPy arrays and Pandas data structures "
   ]
  },
  {
   "cell_type": "markdown",
   "id": "0cdbf5be",
   "metadata": {},
   "source": [
    "  > Numpy is more memory-efficient.\n",
    "  \n",
    "  > Numpy works with numerical data while Pandas works with tabular data.\n",
    "  \n",
    "  > Numpy ndarrays are faster than dataframes in Pandas.\n",
    "  \n",
    "  > Numpy can work with n dimensions while Pandas works with only two.\n",
    "  \n",
    "  > Numpy is accessed by indexes while Pandas is accessed by index labels as well\n",
    "  \n",
    "  > Numpy arrays can be fed into other python toolkits while Pandas series cannot\n",
    "  "
   ]
  },
  {
   "cell_type": "markdown",
   "id": "cc0c32a3",
   "metadata": {},
   "source": [
    "#Task 5\n",
    "\n",
    "> 1. Outline the purpose of Matplotlib and Seaborn. "
   ]
  },
  {
   "cell_type": "markdown",
   "id": "da3bd541",
   "metadata": {},
   "source": [
    "> To use the libraries for visualisation, we have to import them with the data(here in csv format)"
   ]
  },
  {
   "cell_type": "code",
   "execution_count": 4,
   "id": "290eaff4",
   "metadata": {},
   "outputs": [
    {
     "data": {
      "text/html": [
       "<div>\n",
       "<style scoped>\n",
       "    .dataframe tbody tr th:only-of-type {\n",
       "        vertical-align: middle;\n",
       "    }\n",
       "\n",
       "    .dataframe tbody tr th {\n",
       "        vertical-align: top;\n",
       "    }\n",
       "\n",
       "    .dataframe thead th {\n",
       "        text-align: right;\n",
       "    }\n",
       "</style>\n",
       "<table border=\"1\" class=\"dataframe\">\n",
       "  <thead>\n",
       "    <tr style=\"text-align: right;\">\n",
       "      <th></th>\n",
       "      <th>Duration</th>\n",
       "      <th>Date</th>\n",
       "      <th>Pulse</th>\n",
       "      <th>Maxpulse</th>\n",
       "      <th>Calories</th>\n",
       "    </tr>\n",
       "  </thead>\n",
       "  <tbody>\n",
       "    <tr>\n",
       "      <th>0</th>\n",
       "      <td>60</td>\n",
       "      <td>'2020/12/01'</td>\n",
       "      <td>110</td>\n",
       "      <td>130</td>\n",
       "      <td>409.1</td>\n",
       "    </tr>\n",
       "    <tr>\n",
       "      <th>1</th>\n",
       "      <td>60</td>\n",
       "      <td>'2020/12/02'</td>\n",
       "      <td>117</td>\n",
       "      <td>145</td>\n",
       "      <td>479.0</td>\n",
       "    </tr>\n",
       "    <tr>\n",
       "      <th>2</th>\n",
       "      <td>60</td>\n",
       "      <td>'2020/12/03'</td>\n",
       "      <td>103</td>\n",
       "      <td>135</td>\n",
       "      <td>340.0</td>\n",
       "    </tr>\n",
       "    <tr>\n",
       "      <th>3</th>\n",
       "      <td>45</td>\n",
       "      <td>'2020/12/04'</td>\n",
       "      <td>109</td>\n",
       "      <td>175</td>\n",
       "      <td>282.4</td>\n",
       "    </tr>\n",
       "    <tr>\n",
       "      <th>4</th>\n",
       "      <td>45</td>\n",
       "      <td>'2020/12/05'</td>\n",
       "      <td>117</td>\n",
       "      <td>148</td>\n",
       "      <td>406.0</td>\n",
       "    </tr>\n",
       "    <tr>\n",
       "      <th>5</th>\n",
       "      <td>60</td>\n",
       "      <td>'2020/12/06'</td>\n",
       "      <td>102</td>\n",
       "      <td>127</td>\n",
       "      <td>300.0</td>\n",
       "    </tr>\n",
       "    <tr>\n",
       "      <th>6</th>\n",
       "      <td>60</td>\n",
       "      <td>'2020/12/07'</td>\n",
       "      <td>110</td>\n",
       "      <td>136</td>\n",
       "      <td>374.0</td>\n",
       "    </tr>\n",
       "    <tr>\n",
       "      <th>7</th>\n",
       "      <td>450</td>\n",
       "      <td>'2020/12/08'</td>\n",
       "      <td>104</td>\n",
       "      <td>134</td>\n",
       "      <td>253.3</td>\n",
       "    </tr>\n",
       "    <tr>\n",
       "      <th>8</th>\n",
       "      <td>30</td>\n",
       "      <td>'2020/12/09'</td>\n",
       "      <td>109</td>\n",
       "      <td>133</td>\n",
       "      <td>195.1</td>\n",
       "    </tr>\n",
       "    <tr>\n",
       "      <th>9</th>\n",
       "      <td>60</td>\n",
       "      <td>'2020/12/10'</td>\n",
       "      <td>98</td>\n",
       "      <td>124</td>\n",
       "      <td>269.0</td>\n",
       "    </tr>\n",
       "  </tbody>\n",
       "</table>\n",
       "</div>"
      ],
      "text/plain": [
       "   Duration          Date  Pulse  Maxpulse  Calories\n",
       "0        60  '2020/12/01'    110       130     409.1\n",
       "1        60  '2020/12/02'    117       145     479.0\n",
       "2        60  '2020/12/03'    103       135     340.0\n",
       "3        45  '2020/12/04'    109       175     282.4\n",
       "4        45  '2020/12/05'    117       148     406.0\n",
       "5        60  '2020/12/06'    102       127     300.0\n",
       "6        60  '2020/12/07'    110       136     374.0\n",
       "7       450  '2020/12/08'    104       134     253.3\n",
       "8        30  '2020/12/09'    109       133     195.1\n",
       "9        60  '2020/12/10'     98       124     269.0"
      ]
     },
     "execution_count": 4,
     "metadata": {},
     "output_type": "execute_result"
    }
   ],
   "source": [
    "import matplotlib.pyplot as plt\n",
    "import seaborn as sb\n",
    "import pandas as pd\n",
    "%matplotlib inline\n",
    "\n",
    "data = pd.read_csv('data.csv')\n",
    "data.head(10)"
   ]
  },
  {
   "cell_type": "markdown",
   "id": "f5273204",
   "metadata": {},
   "source": [
    "> We can then visualise them as follows"
   ]
  },
  {
   "cell_type": "code",
   "execution_count": 5,
   "id": "a60b2ba8",
   "metadata": {},
   "outputs": [
    {
     "data": {
      "text/plain": [
       "<Axes: xlabel='Pulse', ylabel='count'>"
      ]
     },
     "execution_count": 5,
     "metadata": {},
     "output_type": "execute_result"
    },
    {
     "data": {
      "image/png": "[encoded data removed]",
      "text/plain": [
       "<Figure size 640x480 with 1 Axes>"
      ]
     },
     "metadata": {},
     "output_type": "display_data"
    }
   ],
   "source": [
    "sb.countplot(data = data, x = 'Pulse')"
   ]
  },
  {
   "cell_type": "markdown",
   "id": "5c601368",
   "metadata": {},
   "source": [
    "> 2. Describe the features of Matplotlib and Seaborn. "
   ]
  },
  {
   "cell_type": "markdown",
   "id": "af2ca3a1",
   "metadata": {},
   "source": [
    "> Seaborn has a colour palette for colours to choose from"
   ]
  },
  {
   "cell_type": "code",
   "execution_count": 6,
   "id": "24c1d500",
   "metadata": {},
   "outputs": [
    {
     "data": {
      "text/html": [
       "<svg  width=\"550\" height=\"55\"><rect x=\"0\" y=\"0\" width=\"55\" height=\"55\" style=\"fill:#1f77b4;stroke-width:2;stroke:rgb(255,255,255)\"/><rect x=\"55\" y=\"0\" width=\"55\" height=\"55\" style=\"fill:#ff7f0e;stroke-width:2;stroke:rgb(255,255,255)\"/><rect x=\"110\" y=\"0\" width=\"55\" height=\"55\" style=\"fill:#2ca02c;stroke-width:2;stroke:rgb(255,255,255)\"/><rect x=\"165\" y=\"0\" width=\"55\" height=\"55\" style=\"fill:#d62728;stroke-width:2;stroke:rgb(255,255,255)\"/><rect x=\"220\" y=\"0\" width=\"55\" height=\"55\" style=\"fill:#9467bd;stroke-width:2;stroke:rgb(255,255,255)\"/><rect x=\"275\" y=\"0\" width=\"55\" height=\"55\" style=\"fill:#8c564b;stroke-width:2;stroke:rgb(255,255,255)\"/><rect x=\"330\" y=\"0\" width=\"55\" height=\"55\" style=\"fill:#e377c2;stroke-width:2;stroke:rgb(255,255,255)\"/><rect x=\"385\" y=\"0\" width=\"55\" height=\"55\" style=\"fill:#7f7f7f;stroke-width:2;stroke:rgb(255,255,255)\"/><rect x=\"440\" y=\"0\" width=\"55\" height=\"55\" style=\"fill:#bcbd22;stroke-width:2;stroke:rgb(255,255,255)\"/><rect x=\"495\" y=\"0\" width=\"55\" height=\"55\" style=\"fill:#17becf;stroke-width:2;stroke:rgb(255,255,255)\"/></svg>"
      ],
      "text/plain": [
       "[(0.12156862745098039, 0.4666666666666667, 0.7058823529411765),\n",
       " (1.0, 0.4980392156862745, 0.054901960784313725),\n",
       " (0.17254901960784313, 0.6274509803921569, 0.17254901960784313),\n",
       " (0.8392156862745098, 0.15294117647058825, 0.1568627450980392),\n",
       " (0.5803921568627451, 0.403921568627451, 0.7411764705882353),\n",
       " (0.5490196078431373, 0.33725490196078434, 0.29411764705882354),\n",
       " (0.8901960784313725, 0.4666666666666667, 0.7607843137254902),\n",
       " (0.4980392156862745, 0.4980392156862745, 0.4980392156862745),\n",
       " (0.7372549019607844, 0.7411764705882353, 0.13333333333333333),\n",
       " (0.09019607843137255, 0.7450980392156863, 0.8117647058823529)]"
      ]
     },
     "execution_count": 6,
     "metadata": {},
     "output_type": "execute_result"
    }
   ],
   "source": [
    "sb.color_palette()"
   ]
  },
  {
   "cell_type": "markdown",
   "id": "d1803960",
   "metadata": {},
   "source": [
    "> We can change the colour to any colour in the palette"
   ]
  },
  {
   "cell_type": "code",
   "execution_count": 9,
   "id": "44254c43",
   "metadata": {},
   "outputs": [
    {
     "data": {
      "text/plain": [
       "<Axes: xlabel='Pulse', ylabel='count'>"
      ]
     },
     "execution_count": 9,
     "metadata": {},
     "output_type": "execute_result"
    },
    {
     "data": {
      "image/png": "[encoded data removed]",
      "text/plain": [
       "<Figure size 640x480 with 1 Axes>"
      ]
     },
     "metadata": {},
     "output_type": "display_data"
    }
   ],
   "source": [
    "sb.countplot(data = data, x = 'Pulse', color = sb.color_palette()[2])"
   ]
  },
  {
   "cell_type": "code",
   "execution_count": 10,
   "id": "fbd7f6fb",
   "metadata": {},
   "outputs": [
    {
     "data": {
      "text/plain": [
       "<Axes: xlabel='Date', ylabel='count'>"
      ]
     },
     "execution_count": 10,
     "metadata": {},
     "output_type": "execute_result"
    },
    {
     "data": {
      "image/png": "[encoded data removed]",
      "text/plain": [
       "<Figure size 640x480 with 1 Axes>"
      ]
     },
     "metadata": {},
     "output_type": "display_data"
    }
   ],
   "source": [
    "sb.countplot(data = data, x = 'Date', color = sb.color_palette()[2])"
   ]
  },
  {
   "cell_type": "markdown",
   "id": "84651e65",
   "metadata": {},
   "source": [
    "> We notice that the dates are overlapping, we can change this by rotating the values"
   ]
  },
  {
   "cell_type": "code",
   "execution_count": 11,
   "id": "e5f8d0d7",
   "metadata": {},
   "outputs": [
    {
     "data": {
      "text/plain": [
       "(array([ 0,  1,  2,  3,  4,  5,  6,  7,  8,  9, 10, 11, 12, 13, 14, 15, 16,\n",
       "        17, 18, 19, 20, 21, 22, 23, 24, 25, 26, 27, 28, 29]),\n",
       " [Text(0, 0, \"'2020/12/01'\"),\n",
       "  Text(1, 0, \"'2020/12/02'\"),\n",
       "  Text(2, 0, \"'2020/12/03'\"),\n",
       "  Text(3, 0, \"'2020/12/04'\"),\n",
       "  Text(4, 0, \"'2020/12/05'\"),\n",
       "  Text(5, 0, \"'2020/12/06'\"),\n",
       "  Text(6, 0, \"'2020/12/07'\"),\n",
       "  Text(7, 0, \"'2020/12/08'\"),\n",
       "  Text(8, 0, \"'2020/12/09'\"),\n",
       "  Text(9, 0, \"'2020/12/10'\"),\n",
       "  Text(10, 0, \"'2020/12/11'\"),\n",
       "  Text(11, 0, \"'2020/12/12'\"),\n",
       "  Text(12, 0, \"'2020/12/13'\"),\n",
       "  Text(13, 0, \"'2020/12/14'\"),\n",
       "  Text(14, 0, \"'2020/12/15'\"),\n",
       "  Text(15, 0, \"'2020/12/16'\"),\n",
       "  Text(16, 0, \"'2020/12/17'\"),\n",
       "  Text(17, 0, \"'2020/12/18'\"),\n",
       "  Text(18, 0, \"'2020/12/19'\"),\n",
       "  Text(19, 0, \"'2020/12/20'\"),\n",
       "  Text(20, 0, \"'2020/12/21'\"),\n",
       "  Text(21, 0, \"'2020/12/23'\"),\n",
       "  Text(22, 0, \"'2020/12/24'\"),\n",
       "  Text(23, 0, \"'2020/12/25'\"),\n",
       "  Text(24, 0, '20201226'),\n",
       "  Text(25, 0, \"'2020/12/27'\"),\n",
       "  Text(26, 0, \"'2020/12/28'\"),\n",
       "  Text(27, 0, \"'2020/12/29'\"),\n",
       "  Text(28, 0, \"'2020/12/30'\"),\n",
       "  Text(29, 0, \"'2020/12/31'\")])"
      ]
     },
     "execution_count": 11,
     "metadata": {},
     "output_type": "execute_result"
    },
    {
     "data": {
      "image/png": "[encoded data removed]",
      "text/plain": [
       "<Figure size 640x480 with 1 Axes>"
      ]
     },
     "metadata": {},
     "output_type": "display_data"
    }
   ],
   "source": [
    "sb.countplot(data = data, x = 'Date', color = sb.color_palette()[2])\n",
    "plt.xticks(rotation = 90)"
   ]
  },
  {
   "cell_type": "markdown",
   "id": "b3fd9195",
   "metadata": {},
   "source": [
    "> We can change axes with dates on the y-axis"
   ]
  },
  {
   "cell_type": "code",
   "execution_count": 12,
   "id": "286143c6",
   "metadata": {},
   "outputs": [
    {
     "data": {
      "text/plain": [
       "(array([0.  , 0.25, 0.5 , 0.75, 1.  , 1.25, 1.5 , 1.75, 2.  , 2.25]),\n",
       " [Text(0.0, 0, '0.00'),\n",
       "  Text(0.25, 0, '0.25'),\n",
       "  Text(0.5, 0, '0.50'),\n",
       "  Text(0.75, 0, '0.75'),\n",
       "  Text(1.0, 0, '1.00'),\n",
       "  Text(1.25, 0, '1.25'),\n",
       "  Text(1.5, 0, '1.50'),\n",
       "  Text(1.75, 0, '1.75'),\n",
       "  Text(2.0, 0, '2.00'),\n",
       "  Text(2.25, 0, '2.25')])"
      ]
     },
     "execution_count": 12,
     "metadata": {},
     "output_type": "execute_result"
    },
    {
     "data": {
      "image/png": "[encoded data removed]",
      "text/plain": [
       "<Figure size 640x480 with 1 Axes>"
      ]
     },
     "metadata": {},
     "output_type": "display_data"
    }
   ],
   "source": [
    "sb.countplot(data = data, y = 'Date', color = sb.color_palette()[2])\n",
    "plt.xticks(rotation = 90)"
   ]
  },
  {
   "cell_type": "markdown",
   "id": "1350c319",
   "metadata": {},
   "source": [
    "> We can sort them by type order"
   ]
  },
  {
   "cell_type": "code",
   "execution_count": 17,
   "id": "c848e7f3",
   "metadata": {},
   "outputs": [
    {
     "data": {
      "text/plain": [
       "(array([0., 1., 2., 3., 4., 5., 6., 7.]),\n",
       " [Text(0.0, 0, '0'),\n",
       "  Text(1.0, 0, '1'),\n",
       "  Text(2.0, 0, '2'),\n",
       "  Text(3.0, 0, '3'),\n",
       "  Text(4.0, 0, '4'),\n",
       "  Text(5.0, 0, '5'),\n",
       "  Text(6.0, 0, '6'),\n",
       "  Text(7.0, 0, '7')])"
      ]
     },
     "execution_count": 17,
     "metadata": {},
     "output_type": "execute_result"
    },
    {
     "data": {
      "image/png": "[encoded data removed]",
      "text/plain": [
       "<Figure size 640x480 with 1 Axes>"
      ]
     },
     "metadata": {},
     "output_type": "display_data"
    }
   ],
   "source": [
    "sb.countplot(data = data, color = sb.color_palette()[2],y = 'Pulse', order = data['Pulse'].value_counts().index )\n",
    "plt.xticks(rotation = 90)"
   ]
  },
  {
   "cell_type": "markdown",
   "id": "62b7698f",
   "metadata": {},
   "source": [
    "> We can do histograms with matplotlib or seaborn"
   ]
  },
  {
   "cell_type": "code",
   "execution_count": 19,
   "id": "be22ed12",
   "metadata": {},
   "outputs": [
    {
     "data": {
      "text/plain": [
       "(array([ 3.,  1.,  9., 10.,  4.,  2.,  2.,  0.,  0.,  1.]),\n",
       " array([ 90.,  94.,  98., 102., 106., 110., 114., 118., 122., 126., 130.]),\n",
       " <BarContainer object of 10 artists>)"
      ]
     },
     "execution_count": 19,
     "metadata": {},
     "output_type": "execute_result"
    },
    {
     "data": {
      "image/png": "[encoded data removed]",
      "text/plain": [
       "<Figure size 640x480 with 1 Axes>"
      ]
     },
     "metadata": {},
     "output_type": "display_data"
    }
   ],
   "source": [
    "plt.hist(data = data, x='Pulse' )"
   ]
  },
  {
   "cell_type": "code",
   "execution_count": 20,
   "id": "3d2fcad0",
   "metadata": {},
   "outputs": [
    {
     "name": "stderr",
     "output_type": "stream",
     "text": [
      "C:\\Users\\iyavo\\AppData\\Local\\Temp\\ipykernel_13012\\2339654398.py:1: UserWarning: \n",
      "\n",
      "`distplot` is a deprecated function and will be removed in seaborn v0.14.0.\n",
      "\n",
      "Please adapt your code to use either `displot` (a figure-level function with\n",
      "similar flexibility) or `histplot` (an axes-level function for histograms).\n",
      "\n",
      "For a guide to updating your code to use the new functions, please see\n",
      "https://gist.github.com/mwaskom/de44147ed2974457ad6372750bbe5751\n",
      "\n",
      "  sb.distplot(data['Pulse'])\n"
     ]
    },
    {
     "data": {
      "text/plain": [
       "<Axes: xlabel='Pulse', ylabel='Density'>"
      ]
     },
     "execution_count": 20,
     "metadata": {},
     "output_type": "execute_result"
    },
    {
     "data": {
      "image/png": "[encoded data removed]",
      "text/plain": [
       "<Figure size 640x480 with 1 Axes>"
      ]
     },
     "metadata": {},
     "output_type": "display_data"
    }
   ],
   "source": [
    "sb.distplot(data['Pulse'])"
   ]
  },
  {
   "cell_type": "markdown",
   "id": "11d9a4ec",
   "metadata": {},
   "source": [
    "> 3. Explain the basic concepts of Object-Oriented Programming. "
   ]
  },
  {
   "cell_type": "markdown",
   "id": "2a893ead",
   "metadata": {},
   "source": [
    "> A class is a blueprint that consists of attributes and methods. Attributes are values that \n",
    "describe what they are and methods are functions which describe what they do. \n",
    "\n",
    "> An object is an instance of a class. The class acts as a specification for creating objects. \n",
    "Objects can refer to real-world objects or abstract objects. \n",
    "\n",
    "> Encapsulation is a form of information hiding such that the access to object attributes is done \n",
    "via its public methods. Access to attributes can be safely controlled because they are hidden \n",
    "from other users. This also means that the implementation of the class is hidden. \n",
    "\n",
    "> Object-Orientation makes modelling problems easier because it deals with objects that we \n",
    " use in the real world. It also makes structuring the code into classes easier. It allows for safer \n",
    " and cleaner code by hiding implementation. It also allows for reusing code.\n",
    " \n",
    "> Inheritence is the way a class can use already existing code because it has a relationship with another class. It \n",
    " reuses the attributes and methods of a parent class. Polymorphism is another benefit of  OOP that makes several classes use the same methods. It allows make usage of objects  more flexible. \n",
    " \n",
    "> Inheritence, Polymorphism and Encapsulation allows code to be organised \n",
    " and reused as libraries. This makes programmers’ task easier by not reinventing the wheel."
   ]
  }
 ],
 "metadata": {
  "kernelspec": {
   "display_name": "Python 3 (ipykernel)",
   "language": "python",
   "name": "python3"
  },
  "language_info": {
   "codemirror_mode": {
    "name": "ipython",
    "version": 3
   },
   "file_extension": ".py",
   "mimetype": "text/x-python",
   "name": "python",
   "nbconvert_exporter": "python",
   "pygments_lexer": "ipython3",
   "version": "3.8.18"
  }
 },
 "nbformat": 4,
 "nbformat_minor": 5
}
